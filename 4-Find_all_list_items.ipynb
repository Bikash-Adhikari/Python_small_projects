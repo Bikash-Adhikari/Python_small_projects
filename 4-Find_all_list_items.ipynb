{
 "cells": [
  {
   "cell_type": "code",
   "execution_count": null,
   "metadata": {},
   "outputs": [],
   "source": [
    "\n",
    "def index_all(search_list, item):\n",
    "    index_list = []\n",
    "    \n",
    "    for index, value in enumerate(search_list):\n",
    "        if value == item:\n",
    "            index_list.append([index]) # If the item matches the value, add the current index to the result\n",
    "\n",
    "        elif isinstance(search_list[index], list):\n",
    "            \n",
    "            for i in index_all(search_list[index], item):\n",
    "                index_list.append([index] + i)\n",
    "\n",
    "\n",
    "    return index_list"
   ]
  },
  {
   "cell_type": "code",
   "execution_count": 25,
   "metadata": {},
   "outputs": [
    {
     "name": "stdout",
     "output_type": "stream",
     "text": [
      "[[1]]\n",
      "[[0, 1], [1]]\n",
      "[[0, 0, 1], [0, 1], [1, 1]]\n"
     ]
    }
   ],
   "source": [
    "list0 = [1, 2, 3]\n",
    "list1 = [[1, 2, 3], 2, [1, 3]]\n",
    "list2 = [[[1, 2, 3], 2, [1, 3]], [1, 2, 3]]\n",
    "\n",
    "\n",
    "print(index_all(list0, 2))\n",
    "print(index_all(list1, 2))\n",
    "print(index_all(list2, 2))\n"
   ]
  },
  {
   "cell_type": "code",
   "execution_count": null,
   "metadata": {},
   "outputs": [],
   "source": []
  },
  {
   "cell_type": "code",
   "execution_count": 20,
   "metadata": {},
   "outputs": [
    {
     "name": "stdout",
     "output_type": "stream",
     "text": [
      "DK\n"
     ]
    }
   ],
   "source": [
    "l1 = [\"okay\", \"CK\", \"DK\"]\n",
    "print(l1[2])"
   ]
  },
  {
   "cell_type": "markdown",
   "metadata": {},
   "source": [
    "#\n",
    "---\n",
    "---\n",
    "---"
   ]
  },
  {
   "cell_type": "markdown",
   "metadata": {},
   "source": [
    "In the given example, the function `index_all(List1, 2)` is used to find all occurrences of the value `2` in `List1`. Let's break it down step by step:\n",
    "\n",
    "### List1:\n",
    "```python\n",
    "List1 = [[[1, 2, 3], 2, [1, 3]], [1, 2, 3]]\n",
    "```\n",
    "\n",
    "This is a nested list with mixed types of elements (lists and integers), so we need to find the index of the value `2` in all sublists recursively.\n",
    "\n",
    "### Output of `index_all(List1, 2)`:\n",
    "The output is:\n",
    "```python\n",
    "[[0, 0, 1], [0, 1], [1, 1]]\n",
    "```\n",
    "\n",
    "Here’s how this output is constructed:\n",
    "\n",
    "1. **First Element `[[1, 2, 3], 2, [1, 3]]`:**\n",
    "   - **At index `[0][0]`**: The first list is `[1, 2, 3]`, and the value `2` is at index `1`, so we get `[0, 0, 1]` as the first occurrence.\n",
    "   - **At index `[0][1]`**: The value `2` is directly at index `1` in the second element of the sublist, so we get `[0, 1]` as the second occurrence.\n",
    "\n",
    "2. **Second Element `[1, 2, 3]`:**\n",
    "   - **At index `[1][1]`**: The value `2` is at index `1` in this list, so we get `[1, 1]` as the third occurrence.\n",
    "\n",
    "### Final Output:\n",
    "The full output shows all the positions (indices) where the value `2` is found in the nested list:\n",
    "\n",
    "- **First list** (`[[1, 2, 3], 2, [1, 3]]`) contains `2` at indices `[0, 0, 1]` and `[0, 1]`.\n",
    "- **Second list** (`[1, 2, 3]`) contains `2` at index `[1, 1]`.\n",
    "\n",
    "Thus, the output `[0, 0, 1], [0, 1], [1, 1]` represents the indices where `2` occurs in the nested structure.\n",
    "\n",
    "---\n",
    "---\n",
    "---"
   ]
  },
  {
   "cell_type": "code",
   "execution_count": 2,
   "metadata": {},
   "outputs": [
    {
     "name": "stdout",
     "output_type": "stream",
     "text": [
      "[[0, 0, 1], [0, 1], [1, 1]]\n"
     ]
    }
   ],
   "source": [
    "def index_all(lst, value, index=None):\n",
    "    if index is None:\n",
    "        index = []  # Initialize the index if it's the first call\n",
    "    \n",
    "    indices = []  # List to store all occurrences\n",
    "    for i, item in enumerate(lst):\n",
    "        current_index = index + [i]\n",
    "        \n",
    "        if isinstance(item, list):\n",
    "            # Recursively search in the sublist\n",
    "            indices.extend(index_all(item, value, current_index))\n",
    "        elif item == value:\n",
    "            # If the item matches the value, add the current index to the result\n",
    "            indices.append(current_index)\n",
    "    \n",
    "    return indices\n",
    "\n",
    "# Example usage\n",
    "List1 = [[[1, 2, 3], 2, [1, 3]], [1, 2, 3]]\n",
    "result = index_all(List1, 2)\n",
    "print(result)\n"
   ]
  },
  {
   "cell_type": "code",
   "execution_count": 28,
   "metadata": {},
   "outputs": [
    {
     "name": "stdout",
     "output_type": "stream",
     "text": [
      "[[1], [3], [6], [7], [8]]\n"
     ]
    }
   ],
   "source": [
    "\n",
    "def index_all(listX, item):\n",
    "    index_list = []\n",
    "    \n",
    "    for i, value in enumerate(listX):\n",
    "        if value == item:\n",
    "            index_list.append([i])\n",
    "\n",
    "\n",
    "    return index_list\n",
    "\n",
    "list0 = [1, 2, 3, 2, 5, 7, 2, 2, 2, 4]\n",
    "print(index_all(list0, 2))"
   ]
  },
  {
   "cell_type": "code",
   "execution_count": null,
   "metadata": {},
   "outputs": [],
   "source": []
  }
 ],
 "metadata": {
  "kernelspec": {
   "display_name": "Python 3",
   "language": "python",
   "name": "python3"
  },
  "language_info": {
   "codemirror_mode": {
    "name": "ipython",
    "version": 3
   },
   "file_extension": ".py",
   "mimetype": "text/x-python",
   "name": "python",
   "nbconvert_exporter": "python",
   "pygments_lexer": "ipython3",
   "version": "3.13.1"
  }
 },
 "nbformat": 4,
 "nbformat_minor": 2
}
