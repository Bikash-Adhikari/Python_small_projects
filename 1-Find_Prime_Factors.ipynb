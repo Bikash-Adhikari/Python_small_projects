{
 "cells": [
  {
   "cell_type": "code",
   "execution_count": 19,
   "metadata": {},
   "outputs": [
    {
     "name": "stdout",
     "output_type": "stream",
     "text": [
      "[2, 2, 5, 5]\n"
     ]
    }
   ],
   "source": [
    "# Write a function that returns a list of prime factors\n",
    "num = int(input(\"Enter a number: \"))\n",
    "\n",
    "\n",
    "def get_prime_factors(N):\n",
    "\n",
    "    factors = []\n",
    "    divisor = 2\n",
    "    \n",
    "    while divisor <= N:\n",
    "        if N % divisor == 0:\n",
    "            factors.append(divisor)\n",
    "            N = N // divisor\n",
    "        else:\n",
    "            divisor += 1\n",
    "\n",
    "    return factors\n",
    "\n",
    "\n",
    "x = get_prime_factors(num)\n",
    "print(x)"
   ]
  },
  {
   "cell_type": "markdown",
   "metadata": {},
   "source": [
    "# \n",
    "---\n",
    "---"
   ]
  },
  {
   "cell_type": "code",
   "execution_count": 14,
   "metadata": {},
   "outputs": [
    {
     "name": "stdout",
     "output_type": "stream",
     "text": [
      "[2, 2, 2, 5]\n",
      "[13]\n"
     ]
    }
   ],
   "source": [
    "print(get_prime_factors(40))\n",
    "print(get_prime_factors(13))"
   ]
  },
  {
   "cell_type": "code",
   "execution_count": 20,
   "metadata": {},
   "outputs": [
    {
     "name": "stdout",
     "output_type": "stream",
     "text": [
      "{2, 5}\n"
     ]
    }
   ],
   "source": [
    "print(set(get_prime_factors(40)))"
   ]
  },
  {
   "cell_type": "code",
   "execution_count": 2,
   "metadata": {},
   "outputs": [
    {
     "name": "stdout",
     "output_type": "stream",
     "text": [
      "15\n",
      "15.0\n",
      "0\n"
     ]
    }
   ],
   "source": [
    "print(30//2)\n",
    "print(30/2)\n",
    "print(30%2)"
   ]
  },
  {
   "cell_type": "code",
   "execution_count": 12,
   "metadata": {},
   "outputs": [
    {
     "name": "stdout",
     "output_type": "stream",
     "text": [
      "[2, 2, 5, 5]\n"
     ]
    }
   ],
   "source": [
    "# Another Method\n",
    "def prime_factors(n):\n",
    "    factors = []\n",
    "    divisor = 2\n",
    "    \n",
    "    while n % divisor == 0:\n",
    "        factors.append(divisor)\n",
    "        n //= divisor\n",
    "    \n",
    "    divisor = 3\n",
    "    while divisor * divisor <= n:\n",
    "        while n % divisor == 0:\n",
    "            factors.append(divisor)\n",
    "            n //= divisor\n",
    "        divisor += 2  # Skip even numbers\n",
    "\n",
    "    if n > 1:\n",
    "        factors.append(n)\n",
    "\n",
    "    return factors\n",
    "\n",
    "# Example usage\n",
    "print(prime_factors(100))  # Output: [2, 2, 2, 7]\n"
   ]
  },
  {
   "cell_type": "code",
   "execution_count": null,
   "metadata": {},
   "outputs": [],
   "source": []
  }
 ],
 "metadata": {
  "kernelspec": {
   "display_name": "Python 3",
   "language": "python",
   "name": "python3"
  },
  "language_info": {
   "codemirror_mode": {
    "name": "ipython",
    "version": 3
   },
   "file_extension": ".py",
   "mimetype": "text/x-python",
   "name": "python",
   "nbconvert_exporter": "python",
   "pygments_lexer": "ipython3",
   "version": "3.13.1"
  }
 },
 "nbformat": 4,
 "nbformat_minor": 2
}
