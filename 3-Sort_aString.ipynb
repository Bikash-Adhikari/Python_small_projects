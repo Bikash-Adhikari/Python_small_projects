{
 "cells": [
  {
   "cell_type": "markdown",
   "metadata": {},
   "source": [
    "# ***Sort a String***\n",
    "---"
   ]
  },
  {
   "cell_type": "markdown",
   "metadata": {},
   "source": [
    "---\n",
    "---\n",
    "**Short method**\n",
    "\n",
    "---\n",
    "---"
   ]
  },
  {
   "cell_type": "code",
   "execution_count": 89,
   "metadata": {},
   "outputs": [],
   "source": [
    "def sorting_words(words):\n",
    "    return ' '.join(sorted(words.split(), key=str.casefold))\n",
    "\n",
    "# Where, 'key=str.casefold' ignores the case of words (upperCase or lowerCase >> it ignores)"
   ]
  },
  {
   "cell_type": "code",
   "execution_count": 90,
   "metadata": {},
   "outputs": [
    {
     "name": "stdout",
     "output_type": "stream",
     "text": [
      "APPLE Banana Grapes ORANGE\n"
     ]
    }
   ],
   "source": [
    "print(sorting_words(\"ORANGE APPLE Grapes Banana\"))"
   ]
  },
  {
   "cell_type": "markdown",
   "metadata": {},
   "source": [
    "---\n",
    "---"
   ]
  },
  {
   "cell_type": "markdown",
   "metadata": {},
   "source": [
    "**Detailed method**\n",
    "\n",
    "---\n",
    "---"
   ]
  },
  {
   "cell_type": "code",
   "execution_count": 70,
   "metadata": {},
   "outputs": [
    {
     "name": "stdout",
     "output_type": "stream",
     "text": [
      "APPLE Banana Grapes ORANGE\n"
     ]
    }
   ],
   "source": [
    "\n",
    "def sort_words(input):\n",
    "    words = input.split()  #-------------------------return list\n",
    "    words = [w.lower() + w for w in words]\n",
    "    words.sort()\n",
    "    words = [w[len(w)//2:] for w in words]\n",
    "    return ' '.join(words)\n",
    "\n",
    "print(sort_words(\"ORANGE APPLE Grapes Banana\"))"
   ]
  },
  {
   "cell_type": "code",
   "execution_count": 71,
   "metadata": {},
   "outputs": [
    {
     "name": "stdout",
     "output_type": "stream",
     "text": [
      "['ORANGE', 'APPLE', 'Grapes', 'Banana']\n"
     ]
    }
   ],
   "source": [
    "#[Step-1]------Try each above operation [splitting]\n",
    "\n",
    "input = \"ORANGE APPLE Grapes Banana\"\n",
    "words = input.split()\n",
    "print(words)\n"
   ]
  },
  {
   "cell_type": "code",
   "execution_count": 72,
   "metadata": {},
   "outputs": [
    {
     "name": "stdout",
     "output_type": "stream",
     "text": [
      "['orangeORANGE', 'appleAPPLE', 'grapesGrapes', 'bananaBanana']\n"
     ]
    }
   ],
   "source": [
    "#[Step-2]------Try each above operation [appending original to its lowerCase]\n",
    "\n",
    "words = [ch.lower() + ch for ch in words]\n",
    "print(words)"
   ]
  },
  {
   "cell_type": "code",
   "execution_count": 51,
   "metadata": {},
   "outputs": [
    {
     "name": "stdout",
     "output_type": "stream",
     "text": [
      "['appleAPPLE', 'bananaBanana', 'grapesGrapes', 'orangeORANGE']\n"
     ]
    }
   ],
   "source": [
    "#[Step-3]------Try each above operation [sorting]\n",
    "\n",
    "words.sort()\n",
    "print(words)"
   ]
  },
  {
   "cell_type": "code",
   "execution_count": 52,
   "metadata": {},
   "outputs": [
    {
     "name": "stdout",
     "output_type": "stream",
     "text": [
      "['APPLE', 'Banana', 'Grapes', 'ORANGE']\n"
     ]
    }
   ],
   "source": [
    "#[Step-4]------Try each above operation [sorting]\n",
    "\n",
    "words = [w[len(w)//2:] for w in words]\n",
    "print(words)"
   ]
  },
  {
   "cell_type": "code",
   "execution_count": 53,
   "metadata": {},
   "outputs": [
    {
     "name": "stdout",
     "output_type": "stream",
     "text": [
      "5\n"
     ]
    }
   ],
   "source": [
    "x = len(\"appleAPPLE\")//2\n",
    "print(x)"
   ]
  },
  {
   "cell_type": "code",
   "execution_count": 54,
   "metadata": {},
   "outputs": [
    {
     "name": "stdout",
     "output_type": "stream",
     "text": [
      "A\n",
      "APPLE\n",
      "elppa\n"
     ]
    }
   ],
   "source": [
    "y = \"appleAPPLE\"[5] # only 5th char ||\n",
    "print(y)\n",
    "\n",
    "z = \"appleAPPLE\"[5:] # 5th index and onward >>>\n",
    "print(z)\n",
    "\n",
    "p = \"appleAPPLE\"[4::-1] # 4th index and backward <<<\n",
    "print(p)"
   ]
  },
  {
   "cell_type": "code",
   "execution_count": null,
   "metadata": {},
   "outputs": [],
   "source": []
  },
  {
   "cell_type": "code",
   "execution_count": 55,
   "metadata": {},
   "outputs": [
    {
     "name": "stdout",
     "output_type": "stream",
     "text": [
      "['APPLE', 'Banana', 'Grapes', 'ORANGE']\n",
      "<class 'list'>\n"
     ]
    }
   ],
   "source": [
    "#[Step-FINAL]------Try each above operation [join with a single space]\n",
    "\n",
    "' '.join(words)\n",
    "\n",
    "print(words)\n",
    "print(type(words))"
   ]
  },
  {
   "cell_type": "code",
   "execution_count": null,
   "metadata": {},
   "outputs": [],
   "source": []
  },
  {
   "cell_type": "code",
   "execution_count": null,
   "metadata": {},
   "outputs": [],
   "source": []
  }
 ],
 "metadata": {
  "kernelspec": {
   "display_name": "Python 3",
   "language": "python",
   "name": "python3"
  },
  "language_info": {
   "codemirror_mode": {
    "name": "ipython",
    "version": 3
   },
   "file_extension": ".py",
   "mimetype": "text/x-python",
   "name": "python",
   "nbconvert_exporter": "python",
   "pygments_lexer": "ipython3",
   "version": "3.13.1"
  }
 },
 "nbformat": 4,
 "nbformat_minor": 2
}
