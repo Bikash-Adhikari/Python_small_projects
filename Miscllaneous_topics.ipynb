{
 "cells": [
  {
   "cell_type": "code",
   "execution_count": 29,
   "metadata": {},
   "outputs": [
    {
     "name": "stdout",
     "output_type": "stream",
     "text": [
      "python programming\n",
      "PYTHON PROGRAMMING\n"
     ]
    }
   ],
   "source": [
    "x = \"PYtHON PROgraMMINg\"\n",
    "print(x.lower())\n",
    "print(x.upper())"
   ]
  },
  {
   "cell_type": "code",
   "execution_count": 13,
   "metadata": {},
   "outputs": [
    {
     "name": "stdout",
     "output_type": "stream",
     "text": [
      "PYtHONPROgraMMINg\n"
     ]
    }
   ],
   "source": [
    "words = [\"PYtHON\", \"PROgraMMINg\"]\n",
    "y = ''.join(words)\n",
    "print(y)"
   ]
  },
  {
   "cell_type": "code",
   "execution_count": 32,
   "metadata": {},
   "outputs": [
    {
     "name": "stdout",
     "output_type": "stream",
     "text": [
      "ThisispythONprograMMingleeeeession\n"
     ]
    }
   ],
   "source": [
    "import re\n",
    "str1 = \"This is pythON3.19 prograMMing@ leeeeess**ion.\"\n",
    "\n",
    "cleanStr = ''.join(re.findall(r'[a-z,A-Z]', str1)) #as it is, mix of lowercase and Uppercase\n",
    "\n",
    "print(cleanStr)"
   ]
  },
  {
   "cell_type": "code",
   "execution_count": 42,
   "metadata": {},
   "outputs": [
    {
     "name": "stdout",
     "output_type": "stream",
     "text": [
      "thisispythonprogrammingwhichisisanewleeeeession\n"
     ]
    }
   ],
   "source": [
    "str2 = \"This is pythON3.19 prograMMing@ which is IS a new leeeee+ss**ion.\"\n",
    "\n",
    "cleanStr = ''.join(re.findall(r'[a-z]', str2.lower())) # all lowercase\n",
    "\n",
    "print(cleanStr)"
   ]
  },
  {
   "cell_type": "code",
   "execution_count": null,
   "metadata": {},
   "outputs": [],
   "source": []
  },
  {
   "cell_type": "markdown",
   "metadata": {},
   "source": [
    "#### ***`X = ''.join(re.findall(r'[a-z]+', word.lower()))`***\n",
    "---\n",
    "\n",
    "```python\n",
    "X = ''.join(re.findall(r'[a-z]+', word.lower()))\n",
    "```\n",
    "\n",
    "### **1. `word.lower()`**\n",
    "- This converts the string `word` to lowercase.\n",
    "- Example:\n",
    "  ```python\n",
    "  word = \"Hello123 World!\"\n",
    "  print(word.lower())  # \"hello123 world!\"\n",
    "  ```\n",
    "\n",
    "### **2. `re.findall(r'[a-z]+', word.lower())`**\n",
    "- The `re.findall()` function finds all occurrences of the pattern in the given string.\n",
    "- The pattern `r'[a-z]+'` matches one or more consecutive lowercase alphabetic characters (`a-z`).\n",
    "- It returns a list of all matching substrings.\n",
    "\n",
    "#### **Pattern Breakdown:**\n",
    "- `[a-z]` → Match any lowercase letter from `a` to `z`.\n",
    "- `+` → Match one or more occurrences of the previous pattern (i.e., one or more lowercase letters).\n",
    "\n",
    "#### **Example Execution:**\n",
    "```python\n",
    "import re\n",
    "\n",
    "word = \"Hello123 World!\"\n",
    "matches = re.findall(r'[a-z]+', word.lower())\n",
    "print(matches)  # ['hello', 'world']\n",
    "```\n",
    "\n",
    "### **3. `''.join(re.findall(...))`**\n",
    "- The `''.join(...)` function joins all elements of the list into a single string without spaces or other characters.\n",
    "\n",
    "#### **Example Execution:**\n",
    "```python\n",
    "import re\n",
    "\n",
    "word = \"Hello123 World!\"\n",
    "X = ''.join(re.findall(r'[a-z]+', word.lower()))\n",
    "print(X)  # \"helloworld\"\n",
    "```\n",
    "\n",
    "### **Final Outcome**\n",
    "- This expression removes all non-alphabetic characters (like numbers, spaces, and punctuation) from `word`, leaving only lowercase letters combined into a single string.\n",
    "- If `word = \"Python@3.9 is Great!!\"`, then:\n",
    "  ```python\n",
    "  X = ''.join(re.findall(r'[a-z]+', word.lower()))\n",
    "  print(X)  # \"pythonisgreat\"\n",
    "  ```\n",
    "\n",
    "\n",
    "#\n",
    "---\n",
    "---"
   ]
  },
  {
   "cell_type": "code",
   "execution_count": 31,
   "metadata": {},
   "outputs": [
    {
     "name": "stdout",
     "output_type": "stream",
     "text": [
      "Kathmandu230\n",
      "032udnamhtaK\n"
     ]
    }
   ],
   "source": [
    "#read the word backward\n",
    "str3 = \"Kathmandu230\"\n",
    "readBack = str3[::-1]\n",
    "\n",
    "print(str3)\n",
    "print(readBack)"
   ]
  },
  {
   "cell_type": "code",
   "execution_count": null,
   "metadata": {},
   "outputs": [],
   "source": []
  }
 ],
 "metadata": {
  "kernelspec": {
   "display_name": "Python 3",
   "language": "python",
   "name": "python3"
  },
  "language_info": {
   "codemirror_mode": {
    "name": "ipython",
    "version": 3
   },
   "file_extension": ".py",
   "mimetype": "text/x-python",
   "name": "python",
   "nbconvert_exporter": "python",
   "pygments_lexer": "ipython3",
   "version": "3.13.1"
  }
 },
 "nbformat": 4,
 "nbformat_minor": 2
}
